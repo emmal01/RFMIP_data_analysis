{
 "cells": [
  {
   "cell_type": "markdown",
   "id": "87f886de",
   "metadata": {},
   "source": [
    "#### import packages"
   ]
  },
  {
   "cell_type": "code",
   "execution_count": 1,
   "id": "6474ef78",
   "metadata": {},
   "outputs": [],
   "source": [
    "import numpy as np\n",
    "import xarray as xr\n",
    "import netCDF4 as nc\n",
    "import matplotlib.pyplot as plt\n",
    "import os"
   ]
  },
  {
   "cell_type": "markdown",
   "id": "46b9488d",
   "metadata": {},
   "source": [
    "#### clone repository"
   ]
  },
  {
   "cell_type": "code",
   "execution_count": 2,
   "id": "30a6fbd3",
   "metadata": {},
   "outputs": [
    {
     "name": "stdout",
     "output_type": "stream",
     "text": [
      "Cloning into 'RFMIP-IRF_intake_catalogue'...\n",
      "remote: Enumerating objects: 391, done.\u001b[K\n",
      "remote: Counting objects: 100% (249/249), done.\u001b[K\n",
      "remote: Compressing objects: 100% (136/136), done.\u001b[K\n",
      "remote: Total 391 (delta 144), reused 197 (delta 113), pack-reused 142\u001b[K\n",
      "Receiving objects: 100% (391/391), 2.34 MiB | 9.30 MiB/s, done.\n",
      "Resolving deltas: 100% (226/226), done.\n"
     ]
    }
   ],
   "source": [
    "#clone repository\n",
    "!git clone https://github.com/RobertPincus/RFMIP-IRF_intake_catalogue"
   ]
  },
  {
   "cell_type": "code",
   "execution_count": 2,
   "id": "f0889aaa",
   "metadata": {},
   "outputs": [],
   "source": [
    "#copy directory here\n",
    "os.chdir('/Users/emmalayton/Desktop/senior_thesis/RFMIP-IRF_intake_catalogue')"
   ]
  },
  {
   "cell_type": "code",
   "execution_count": 4,
   "id": "d24e87b1",
   "metadata": {},
   "outputs": [],
   "source": [
    "from intake import open_catalog\n",
    "cat = open_catalog(os.getcwd() + '/main.yml')"
   ]
  },
  {
   "cell_type": "markdown",
   "id": "9100beed",
   "metadata": {},
   "source": [
    "#### calculate LBLRTM (benchmark) global mean flux"
   ]
  },
  {
   "cell_type": "code",
   "execution_count": 9,
   "id": "055900c0",
   "metadata": {},
   "outputs": [],
   "source": [
    "#shortwave calculation\n",
    "LBLRTM_p1f1_rsu = cat.benchmark.LBLRTM.p1f1.rsu.to_dask() #upwelling sw radiation values\n",
    "LBLRTM_p1f1_rsd = cat.benchmark.LBLRTM.p1f1.rsd.to_dask() #downwelling sw radiation values\n",
    "pw_sw_LBLRTM = LBLRTM_p1f1_rsu.profile_weight.values #profile weights for each column\n",
    "\n",
    "gbm_LBLRTM_p1f1_rsu = np.average(LBLRTM_p1f1_rsu.rsu, axis=1, weights=pw_sw_LBLRTM) #compute average across 100 columns\n",
    "gbm_LBLRTM_p1f1_rsd = np.average(LBLRTM_p1f1_rsd.rsd, axis=1, weights=pw_sw_LBLRTM)"
   ]
  },
  {
   "cell_type": "code",
   "execution_count": 205,
   "id": "d42ffcc2",
   "metadata": {},
   "outputs": [
    {
     "name": "stdout",
     "output_type": "stream",
     "text": [
      "0.01\n",
      "98620.87\n"
     ]
    }
   ],
   "source": [
    "print(np.average(LBLRTM_p1f1_rsd.plev[:,0].values, weights=pw_sw_LBLRTM))\n",
    "print(np.average(LBLRTM_p1f1_rsd.plev[:,60].values, weights=pw_sw_LBLRTM))"
   ]
  },
  {
   "cell_type": "code",
   "execution_count": 12,
   "id": "33ef2616",
   "metadata": {},
   "outputs": [],
   "source": [
    "#longwave calculation\n",
    "LBLRTM_p1f1_rlu = cat.benchmark.LBLRTM.p1f1.rlu.to_dask() #upwelling lw radiation values\n",
    "LBLRTM_p1f1_rld = cat.benchmark.LBLRTM.p1f1.rld.to_dask() #downwelling lw radiation values\n",
    "pw_lw_LBLRTM = LBLRTM_p1f1_rlu.profile_weight.values #profile weights for each column\n",
    "\n",
    "gbm_LBLRTM_p1f1_rlu = np.average(LBLRTM_p1f1_rlu.rlu, axis=1, weights=pw_lw_LBLRTM) #compute average across 100 columns\n",
    "gbm_LBLRTM_p1f1_rld = np.average(LBLRTM_p1f1_rld.rld, axis=1, weights=pw_lw_LBLRTM)"
   ]
  },
  {
   "cell_type": "code",
   "execution_count": 13,
   "id": "d45a62ff",
   "metadata": {},
   "outputs": [],
   "source": [
    "#shortwave flux = downwelling - upwelling radiation\n",
    "gbm_LBLRTM_p1f1_sw_flux = gbm_LBLRTM_p1f1_rsd-gbm_LBLRTM_p1f1_rsu \n",
    "\n",
    "gbm_LBLRTM_p1f1_sw_flux_forcing = np.zeros((18,61))\n",
    "\n",
    "#calculate error in experiments 2-18 compared with the reference experiment 1\n",
    "for i in range(1,18): \n",
    "    for j in range(61):\n",
    "        gbm_LBLRTM_p1f1_sw_flux_forcing[0,:] = 0\n",
    "        gbm_LBLRTM_p1f1_sw_flux_forcing[i,j] = gbm_LBLRTM_p1f1_sw_flux[i,j]-gbm_LBLRTM_p1f1_sw_flux[0,j]"
   ]
  },
  {
   "cell_type": "code",
   "execution_count": 14,
   "id": "8b435a0d",
   "metadata": {},
   "outputs": [],
   "source": [
    "#longwave flux = downwelling - upwelling radiation\n",
    "gbm_LBLRTM_p1f1_lw_flux = gbm_LBLRTM_p1f1_rld-gbm_LBLRTM_p1f1_rlu \n",
    "\n",
    "gbm_LBLRTM_p1f1_lw_flux_forcing = np.zeros((18,61))\n",
    "\n",
    "#calculate error in experiments 2-18 compared with the reference experiment 1\n",
    "for i in range(1,18):\n",
    "    for j in range(61):\n",
    "        gbm_LBLRTM_p1f1_lw_flux_forcing[0,:] = 0\n",
    "        gbm_LBLRTM_p1f1_lw_flux_forcing[i,j] = gbm_LBLRTM_p1f1_lw_flux[i,j]-gbm_LBLRTM_p1f1_lw_flux[0,j]"
   ]
  },
  {
   "cell_type": "code",
   "execution_count": 80,
   "id": "295462c8",
   "metadata": {},
   "outputs": [],
   "source": [
    "lblrtm_p1f1 = xr.DataArray(\n",
    "    data=gbm_LBLRTM_p1f1_lw_flux_forcing,\n",
    "    dims=[\"experiment\", \"level\"],\n",
    "    attrs=dict(\n",
    "        description=\"Ambient temperature.\",\n",
    "        units=\"degC\",\n",
    "    ),\n",
    ")"
   ]
  },
  {
   "cell_type": "code",
   "execution_count": 81,
   "id": "8b085354",
   "metadata": {},
   "outputs": [],
   "source": [
    "lblrtm_p1f1_lw = xr.DataArray(\n",
    "    data=gbm_LBLRTM_p1f1_lw_flux_forcing,\n",
    "    dims=[\"experiment\", \"level\"],\n",
    "    attrs=dict(\n",
    "        description=\"Ambient temperature.\",\n",
    "        units=\"degC\",\n",
    "    ),\n",
    ")"
   ]
  },
  {
   "cell_type": "markdown",
   "id": "a76ed71e",
   "metadata": {},
   "source": [
    "#### CanESM5 p2f2 (parameterized)"
   ]
  },
  {
   "cell_type": "code",
   "execution_count": 149,
   "id": "dde584c2",
   "metadata": {},
   "outputs": [],
   "source": [
    "#shortwave calculation\n",
    "CanESM5_p2f2_rsu = cat.parameterized.CanESM5.p2f2.rsu.to_dask() #upwelling sw radiation values\n",
    "CanESM5_p2f2_rsd = cat.parameterized.CanESM5.p2f2.rsd.to_dask() #downwelling sw radiation values\n",
    "pw_sw_CanESM5 = CanESM5_p2f2_rsu.profile_weight.values #profile weights for each column\n",
    "\n",
    "gbm_CanESM5_p2f2_rsu = np.average(CanESM5_p2f2_rsu.rsu, axis=1, weights=pw_sw_CanESM5) #compute average across 100 columns\n",
    "gbm_CanESM5_p2f2_rsd = np.average(CanESM5_p2f2_rsd.rsd, axis=1, weights=pw_sw_CanESM5)"
   ]
  },
  {
   "cell_type": "code",
   "execution_count": 150,
   "id": "8d9ad1cb",
   "metadata": {},
   "outputs": [],
   "source": [
    "#longwave calculation\n",
    "CanESM5_p2f2_rlu = cat.parameterized.CanESM5.p2f2.rlu.to_dask() #upwelling lw radiation values\n",
    "CanESM5_p2f2_rld = cat.parameterized.CanESM5.p2f2.rld.to_dask() #downwelling lw radiation values\n",
    "pw_lw_CanESM5 = CanESM5_p2f2_rlu.profile_weight.values #profile weights for each column\n",
    "\n",
    "gbm_CanESM5_p2f2_rlu = np.average(CanESM5_p2f2_rlu.rlu, axis=1, weights=pw_lw_CanESM5) #compute average across 100 columns\n",
    "gbm_CanESM5_p2f2_rld = np.average(CanESM5_p2f2_rld.rld, axis=1, weights=pw_lw_CanESM5)"
   ]
  },
  {
   "cell_type": "code",
   "execution_count": 151,
   "id": "491bcd52",
   "metadata": {},
   "outputs": [],
   "source": [
    "#shortwave flux = downwelling - upwelling radiation\n",
    "gbm_CanESM5_p2f2_sw_flux = gbm_CanESM5_p2f2_rsd-gbm_CanESM5_p2f2_rsu \n",
    "\n",
    "gbm_CanESM5_p2f2_sw_flux_forcing = np.zeros((18,61))\n",
    "\n",
    "#calculate error in experiments 2-18 compared with the reference experiment 1\n",
    "for i in range(1,18):\n",
    "    for j in range(61):\n",
    "        gbm_CanESM5_p2f2_sw_flux_forcing[0,:] = 0\n",
    "        gbm_CanESM5_p2f2_sw_flux_forcing[i,j] = gbm_CanESM5_p2f2_sw_flux[i,j]-gbm_CanESM5_p2f2_sw_flux[0,j]"
   ]
  },
  {
   "cell_type": "code",
   "execution_count": 152,
   "id": "4d194595",
   "metadata": {},
   "outputs": [],
   "source": [
    "#longwave flux = downwelling - upwelling radiation\n",
    "gbm_CanESM5_p2f2_lw_flux = gbm_CanESM5_p2f2_rld-gbm_CanESM5_p2f2_rlu \n",
    "\n",
    "gbm_CanESM5_p2f2_lw_flux_forcing = np.zeros((18,61))\n",
    "\n",
    "#calculate error in experiments 2-18 compared with the reference experiment 1\n",
    "for i in range(1,18):\n",
    "    for j in range(61):\n",
    "        gbm_CanESM5_p2f2_lw_flux_forcing[0,:] = 0\n",
    "        gbm_CanESM5_p2f2_lw_flux_forcing[i,j] = gbm_CanESM5_p2f2_lw_flux[i,j]-gbm_CanESM5_p2f2_lw_flux[0,j]"
   ]
  },
  {
   "cell_type": "code",
   "execution_count": 153,
   "id": "bc813758",
   "metadata": {},
   "outputs": [],
   "source": [
    "canesm5_p2f2 = xr.DataArray(\n",
    "    data=gbm_CanESM5_p2f2_lw_flux_forcing-gbm_LBLRTM_p1f1_sw_flux_forcing,\n",
    "    dims=[\"experiment\", \"level\"],\n",
    "    attrs=dict(\n",
    "        description=\"Ambient temperature.\",\n",
    "        units=\"degC\",\n",
    "    ),\n",
    ")"
   ]
  },
  {
   "cell_type": "code",
   "execution_count": 154,
   "id": "70f8abfc",
   "metadata": {},
   "outputs": [],
   "source": [
    "canesm5_p2f2_lw = xr.DataArray(\n",
    "    data=gbm_CanESM5_p2f2_lw_flux_forcing-gbm_LBLRTM_p1f1_lw_flux_forcing,\n",
    "    dims=[\"experiment\", \"level\"],\n",
    "    attrs=dict(\n",
    "        description=\"Ambient temperature.\",\n",
    "        units=\"degC\",\n",
    "    ),\n",
    ")"
   ]
  },
  {
   "cell_type": "markdown",
   "id": "1c93b455",
   "metadata": {},
   "source": [
    "#### GISS E2 (parameterized)"
   ]
  },
  {
   "cell_type": "code",
   "execution_count": 211,
   "id": "27cc31c0",
   "metadata": {},
   "outputs": [],
   "source": [
    "#shortwave calculation\n",
    "GISS_E2_1_G_p1f1_rsu = cat.parameterized.GISS_E2.p1f1.rsu.to_dask() #upwelling sw radiation values\n",
    "GISS_E2_1_G_p1f1_rsd = cat.parameterized.GISS_E2.p1f1.rsd.to_dask() #upwelling sw radiation values\n",
    "pw_sw_GISS_E2 = GISS_E2_1_G_p1f1_rsu.profile_weight.values #profile weights for each column\n",
    "\n",
    "gbm_GISS_E2_1_G_p1f1_rsu = np.average(GISS_E2_1_G_p1f1_rsu.rsu, axis=1, weights=pw_sw_GISS_E2) #compute average across 100 columns\n",
    "gbm_GISS_E2_1_G_p1f1_rsd = np.average(GISS_E2_1_G_p1f1_rsd.rsd, axis=1, weights=pw_sw_GISS_E2)"
   ]
  },
  {
   "cell_type": "code",
   "execution_count": 212,
   "id": "16705a46",
   "metadata": {},
   "outputs": [],
   "source": [
    "#longwave calculation\n",
    "GISS_E2_1_G_p1f1_rlu = cat.parameterized.GISS_E2.p1f1.rlu.to_dask() #upwelling sw radiation values\n",
    "GISS_E2_1_G_p1f1_rld = cat.parameterized.GISS_E2.p1f1.rld.to_dask() #upwelling sw radiation values\n",
    "pw_lw_GISS_E2 = GISS_E2_1_G_p1f1_rlu.profile_weight.values #profile weights for each column\n",
    "\n",
    "gbm_GISS_E2_1_G_p1f1_rlu = np.average(GISS_E2_1_G_p1f1_rlu.rlu, axis=1, weights=pw_lw_GISS_E2) #compute average across 100 columns\n",
    "gbm_GISS_E2_1_G_p1f1_rld = np.average(GISS_E2_1_G_p1f1_rld.rld, axis=1, weights=pw_lw_GISS_E2)"
   ]
  },
  {
   "cell_type": "code",
   "execution_count": 213,
   "id": "3605f380",
   "metadata": {},
   "outputs": [],
   "source": [
    "#shortwave flux = downwelling - upwelling radiation\n",
    "gbm_GISS_E2_1_G_p1f1_sw_flux = gbm_GISS_E2_1_G_p1f1_rsd-gbm_GISS_E2_1_G_p1f1_rsu \n",
    "\n",
    "gbm_GISS_E2_1_G_p1f1_sw_flux_forcing = np.zeros((18,61))\n",
    "\n",
    "#calculate error in experiments 2-18 compared with the reference experiment 1\n",
    "for i in range(1,18):\n",
    "    for j in range(61):\n",
    "        gbm_GISS_E2_1_G_p1f1_sw_flux_forcing[0,:] = 0\n",
    "        gbm_GISS_E2_1_G_p1f1_sw_flux_forcing[i,j] = gbm_GISS_E2_1_G_p1f1_sw_flux[i,j]-gbm_GISS_E2_1_G_p1f1_sw_flux[0,j]"
   ]
  },
  {
   "cell_type": "code",
   "execution_count": 214,
   "id": "9238294c",
   "metadata": {},
   "outputs": [],
   "source": [
    "#longwave flux = downwelling - upwelling radiation\n",
    "gbm_GISS_E2_1_G_p1f1_lw_flux = gbm_GISS_E2_1_G_p1f1_rld-gbm_GISS_E2_1_G_p1f1_rlu \n",
    "\n",
    "gbm_GISS_E2_1_G_p1f1_lw_flux_forcing = np.zeros((18,61))\n",
    "\n",
    "#calculate error in experiments 2-18 compared with the reference experiment 1\n",
    "for i in range(1,18):\n",
    "    for j in range(61):\n",
    "        gbm_GISS_E2_1_G_p1f1_lw_flux_forcing[0,:] = 0\n",
    "        gbm_GISS_E2_1_G_p1f1_lw_flux_forcing[i,j] = gbm_GISS_E2_1_G_p1f1_lw_flux[i,j]-gbm_GISS_E2_1_G_p1f1_lw_flux[0,j]"
   ]
  },
  {
   "cell_type": "code",
   "execution_count": 215,
   "id": "2602bea1",
   "metadata": {},
   "outputs": [],
   "source": [
    "giss_e2_1_g_p1f1 = xr.DataArray(\n",
    "    data=gbm_GISS_E2_1_G_p1f1_sw_flux_forcing-gbm_LBLRTM_p1f1_sw_flux_forcing,\n",
    "    dims=[\"experiment\", \"level\"],\n",
    "    attrs=dict(\n",
    "        description=\"Ambient temperature.\",\n",
    "        units=\"degC\",\n",
    "    ),\n",
    ")"
   ]
  },
  {
   "cell_type": "code",
   "execution_count": 216,
   "id": "d492575b",
   "metadata": {},
   "outputs": [],
   "source": [
    "giss_e2_1_g_p1f1_lw = xr.DataArray(\n",
    "    data=gbm_GISS_E2_1_G_p1f1_lw_flux_forcing-gbm_LBLRTM_p1f1_lw_flux_forcing,\n",
    "    dims=[\"experiment\", \"level\"],\n",
    "    attrs=dict(\n",
    "        description=\"Ambient temperature.\",\n",
    "        units=\"degC\",\n",
    "    ),\n",
    ")"
   ]
  },
  {
   "cell_type": "markdown",
   "id": "d82b15ca",
   "metadata": {},
   "source": [
    "#### GISS E3 (parameterized) "
   ]
  },
  {
   "cell_type": "code",
   "execution_count": 173,
   "id": "0d6e4c61",
   "metadata": {},
   "outputs": [],
   "source": [
    "#shortwave calculation\n",
    "GISS_E3_G_p1f1_rsu = cat.parameterized.GISS_E3.p1f1.rsu.to_dask() #upwelling sw radiation values\n",
    "GISS_E3_G_p1f1_rsd = cat.parameterized.GISS_E3.p1f1.rsd.to_dask() #upwelling sw radiation values\n",
    "pw_sw_GISS_E3 = GISS_E3_G_p1f1_rsu.profile_weight.values #profile weights for each column\n",
    "\n",
    "gbm_GISS_E3_G_p1f1_rsu = np.average(GISS_E3_G_p1f1_rsu.rsu, axis=1, weights=pw_sw_GISS_E3) #compute average across 100 columns\n",
    "gbm_GISS_E3_G_p1f1_rsd = np.average(GISS_E3_G_p1f1_rsd.rsd, axis=1, weights=pw_sw_GISS_E3)"
   ]
  },
  {
   "cell_type": "code",
   "execution_count": 174,
   "id": "9d73fb03",
   "metadata": {},
   "outputs": [],
   "source": [
    "#longwave calculation\n",
    "GISS_E3_G_p1f1_rlu = cat.parameterized.GISS_E3.p1f1.rlu.to_dask() #upwelling sw radiation values\n",
    "GISS_E3_G_p1f1_rld = cat.parameterized.GISS_E3.p1f1.rld.to_dask() #upwelling sw radiation values\n",
    "pw_lw_GISS_E3 = GISS_E3_G_p1f1_rlu.profile_weight.values #profile weights for each column\n",
    "\n",
    "gbm_GISS_E3_G_p1f1_rlu = np.average(GISS_E3_G_p1f1_rlu.rlu, axis=1, weights=pw_lw_GISS_E3) #compute average across 100 columns\n",
    "gbm_GISS_E3_G_p1f1_rld = np.average(GISS_E3_G_p1f1_rld.rld, axis=1, weights=pw_lw_GISS_E3)"
   ]
  },
  {
   "cell_type": "code",
   "execution_count": 175,
   "id": "60afe512",
   "metadata": {},
   "outputs": [],
   "source": [
    "#shortwave flux = downwelling - upwelling radiation\n",
    "gbm_GISS_E3_G_p1f1_sw_flux = gbm_GISS_E3_G_p1f1_rsd-gbm_GISS_E3_G_p1f1_rsu \n",
    "\n",
    "gbm_GISS_E3_G_p1f1_sw_flux_forcing = np.zeros((18,61))\n",
    "\n",
    "#calculate error in experiments 2-18 compared with the reference experiment 1\n",
    "for i in range(1,18):\n",
    "    for j in range(61):\n",
    "        gbm_GISS_E3_G_p1f1_sw_flux_forcing[0,:] = 0\n",
    "        gbm_GISS_E3_G_p1f1_sw_flux_forcing[i,j] = gbm_GISS_E3_G_p1f1_sw_flux[i,j]-gbm_GISS_E3_G_p1f1_sw_flux[0,j]"
   ]
  },
  {
   "cell_type": "code",
   "execution_count": 176,
   "id": "0192033d",
   "metadata": {},
   "outputs": [],
   "source": [
    "#longwave flux = downwelling - upwelling radiation\n",
    "gbm_GISS_E3_G_p1f1_lw_flux = gbm_GISS_E3_G_p1f1_rld-gbm_GISS_E3_G_p1f1_rlu \n",
    "\n",
    "gbm_GISS_E3_G_p1f1_lw_flux_forcing = np.zeros((18,61))\n",
    "\n",
    "#calculate error in experiments 2-18 compared with the reference experiment 1\n",
    "for i in range(1,18):\n",
    "    for j in range(61):\n",
    "        gbm_GISS_E3_G_p1f1_lw_flux_forcing[0,:] = 0\n",
    "        gbm_GISS_E3_G_p1f1_lw_flux_forcing[i,j] = gbm_GISS_E3_G_p1f1_lw_flux[i,j]-gbm_GISS_E3_G_p1f1_lw_flux[0,j]"
   ]
  },
  {
   "cell_type": "code",
   "execution_count": 177,
   "id": "50dfdfcf",
   "metadata": {},
   "outputs": [],
   "source": [
    "giss_e3_g_p1f1 = xr.DataArray(\n",
    "    data=gbm_GISS_E3_G_p1f1_sw_flux_forcing-gbm_LBLRTM_p1f1_sw_flux_forcing,\n",
    "    dims=[\"experiment\", \"level\"],\n",
    "    attrs=dict(\n",
    "        description=\"Ambient temperature.\",\n",
    "        units=\"degC\",\n",
    "    ),\n",
    ")"
   ]
  },
  {
   "cell_type": "code",
   "execution_count": 178,
   "id": "3f118efb",
   "metadata": {},
   "outputs": [],
   "source": [
    "giss_e3_g_p1f1_lw = xr.DataArray(\n",
    "    data=gbm_GISS_E3_G_p1f1_lw_flux_forcing-gbm_LBLRTM_p1f1_lw_flux_forcing,\n",
    "    dims=[\"experiment\", \"level\"],\n",
    "    attrs=dict(\n",
    "        description=\"Ambient temperature.\",\n",
    "        units=\"degC\",\n",
    "    ),\n",
    ")"
   ]
  },
  {
   "cell_type": "markdown",
   "id": "054ded74",
   "metadata": {},
   "source": [
    "#### MIROC6 (parameterized)"
   ]
  },
  {
   "cell_type": "code",
   "execution_count": 20,
   "id": "50a5eb1f",
   "metadata": {},
   "outputs": [],
   "source": [
    "#shortwave calculation\n",
    "MIROC6_p1f1_rsu = cat.parameterized.MIROC6.p1f1.rsu.to_dask() #upwelling sw radiation values\n",
    "MIROC6_p1f1_rsd = cat.parameterized.MIROC6.p1f1.rsd.to_dask() #downwelling sw radiation values\n",
    "pw_sw_MIROC6 = MIROC6_p1f1_rsu.profile_weight.values #profile weights for each column\n",
    "\n",
    "gbm_MIROC6_p1f1_rsu = np.average(MIROC6_p1f1_rsu.rsu, axis=1, weights=pw_sw_MIROC6) #compute average across 100 columns\n",
    "gbm_MIROC6_p1f1_rsd = np.average(MIROC6_p1f1_rsd.rsd, axis=1, weights=pw_sw_MIROC6) "
   ]
  },
  {
   "cell_type": "code",
   "execution_count": 22,
   "id": "628f1561",
   "metadata": {},
   "outputs": [],
   "source": [
    "#longwave calculation\n",
    "MIROC6_p1f1_rlu = cat.parameterized.MIROC6.p1f1.rlu.to_dask() #upwelling lw radiation values\n",
    "MIROC6_p1f1_rld = cat.parameterized.MIROC6.p1f1.rld.to_dask() #downwelling lw radiation values\n",
    "pw_lw_MIROC6 = MIROC6_p1f1_rlu.profile_weight.values #profile weights for each column\n",
    "\n",
    "gbm_MIROC6_p1f1_rlu = np.average(MIROC6_p1f1_rlu.rlu, axis=1, weights=pw_lw_MIROC6) #compute average across 100 columns\n",
    "gbm_MIROC6_p1f1_rld = np.average(MIROC6_p1f1_rld.rld, axis=1, weights=pw_lw_MIROC6)"
   ]
  },
  {
   "cell_type": "code",
   "execution_count": 23,
   "id": "a71821cd",
   "metadata": {},
   "outputs": [],
   "source": [
    "#shortwave flux = downwelling - upwelling radiation\n",
    "gbm_MIROC6_p1f1_sw_flux = gbm_MIROC6_p1f1_rsd-gbm_MIROC6_p1f1_rsu \n",
    "\n",
    "gbm_MIROC6_p1f1_sw_flux_forcing = np.zeros((18,61))\n",
    "\n",
    "#calculate error in experiments 2-18 compared with the reference experiment 1\n",
    "for i in range(1,18):\n",
    "    for j in range(61):\n",
    "        gbm_MIROC6_p1f1_sw_flux_forcing[0,:] = 0\n",
    "        gbm_MIROC6_p1f1_sw_flux_forcing[i,j] = gbm_MIROC6_p1f1_sw_flux[i,j]-gbm_MIROC6_p1f1_sw_flux[0,j]"
   ]
  },
  {
   "cell_type": "code",
   "execution_count": 24,
   "id": "ac9f9fa7",
   "metadata": {},
   "outputs": [],
   "source": [
    "#longwave flux = downwelling - upwelling radiation\n",
    "gbm_MIROC6_p1f1_lw_flux = gbm_MIROC6_p1f1_rld-gbm_MIROC6_p1f1_rlu \n",
    "\n",
    "gbm_MIROC6_p1f1_lw_flux_forcing = np.zeros((18,61))\n",
    "\n",
    "#calculate error in experiments 2-18 compared with the reference experiment 1\n",
    "for i in range(1,18):\n",
    "    for j in range(61):\n",
    "        gbm_MIROC6_p1f1_lw_flux_forcing[0,:] = 0\n",
    "        gbm_MIROC6_p1f1_lw_flux_forcing[i,j] = gbm_MIROC6_p1f1_lw_flux[i,j]-gbm_MIROC6_p1f1_lw_flux[0,j]"
   ]
  },
  {
   "cell_type": "code",
   "execution_count": 84,
   "id": "e7d60ca6",
   "metadata": {},
   "outputs": [],
   "source": [
    "miroc6_p1f1 = xr.DataArray(\n",
    "    data=gbm_MIROC6_p1f1_sw_flux_forcing-gbm_LBLRTM_p1f1_sw_flux_forcing,\n",
    "    dims=[\"experiment\", \"level\"],\n",
    "    attrs=dict(\n",
    "        description=\"Ambient temperature.\",\n",
    "        units=\"degC\",\n",
    "    ),\n",
    ")"
   ]
  },
  {
   "cell_type": "code",
   "execution_count": 85,
   "id": "32aa2322",
   "metadata": {},
   "outputs": [],
   "source": [
    "miroc6_p1f1_lw = xr.DataArray(\n",
    "    data=gbm_MIROC6_p1f1_lw_flux_forcing-gbm_LBLRTM_p1f1_lw_flux_forcing,\n",
    "    dims=[\"experiment\", \"level\"],\n",
    "    attrs=dict(\n",
    "        description=\"Ambient temperature.\",\n",
    "        units=\"degC\",\n",
    "    ),\n",
    ")"
   ]
  },
  {
   "cell_type": "markdown",
   "id": "a03b6859",
   "metadata": {},
   "source": [
    "#### GFDL (parameterized)"
   ]
  },
  {
   "cell_type": "code",
   "execution_count": 28,
   "id": "92e2d51f",
   "metadata": {},
   "outputs": [],
   "source": [
    "#shortwave calculation\n",
    "GFDL_p1f2_rsu = cat.parameterized.GFDL.p1f2.rsu.to_dask() #upwelling sw radiation values\n",
    "GFDL_p1f2_rsd = cat.parameterized.GFDL.p1f2.rsd.to_dask() #downwelling sw radiation values\n",
    "pw_sw_GFDL = GFDL_p1f2_rsu.profile_weight.values #profile weights for each column\n",
    "\n",
    "gbm_GFDL_p1f2_rsu = np.average(GFDL_p1f2_rsu.rsu, axis=1, weights=pw_sw_GFDL) #compute average across 100 columns\n",
    "gbm_GFDL_p1f2_rsd = np.average(GFDL_p1f2_rsd.rsd, axis=1, weights=pw_sw_GFDL)"
   ]
  },
  {
   "cell_type": "code",
   "execution_count": 29,
   "id": "2998a663",
   "metadata": {},
   "outputs": [],
   "source": [
    "#longwave calculation\n",
    "GFDL_p1f2_rlu = cat.parameterized.GFDL.p1f2.rlu.to_dask() #upwelling lw radiation values\n",
    "GFDL_p1f2_rld = cat.parameterized.GFDL.p1f2.rld.to_dask() #downwelling lw radiation values\n",
    "pw_lw_GFDL = GFDL_p1f2_rlu.profile_weight.values #profile weights for each column\n",
    "\n",
    "gbm_GFDL_p1f2_rlu = np.average(GFDL_p1f2_rlu.rlu, axis=1, weights=pw_lw_GFDL) #compute average across 100 columns\n",
    "gbm_GFDL_p1f2_rld = np.average(GFDL_p1f2_rld.rld, axis=1, weights=pw_lw_GFDL)"
   ]
  },
  {
   "cell_type": "code",
   "execution_count": 30,
   "id": "7a6360bf",
   "metadata": {},
   "outputs": [],
   "source": [
    "#shortwave flux = downwelling - upwelling radiation\n",
    "gbm_GFDL_p1f2_sw_flux = gbm_GFDL_p1f2_rsd-gbm_GFDL_p1f2_rsu \n",
    "\n",
    "gbm_GFDL_p1f2_sw_flux_error = np.zeros((18,61))\n",
    "\n",
    "#calculate error in experiments 2-18 compared with the reference experiment 1\n",
    "for i in range(1,18):\n",
    "    for j in range(61):\n",
    "        gbm_GFDL_p1f2_sw_flux_error[0,:] = 0\n",
    "        gbm_GFDL_p1f2_sw_flux_error[i,j] = gbm_GFDL_p1f2_sw_flux[i,j]-gbm_GFDL_p1f2_sw_flux[0,j]"
   ]
  },
  {
   "cell_type": "code",
   "execution_count": 31,
   "id": "2f153a06",
   "metadata": {},
   "outputs": [],
   "source": [
    "#longwave flux = downwelling - upwelling radiation\n",
    "gbm_GFDL_p1f2_lw_flux = gbm_GFDL_p1f2_rld-gbm_GFDL_p1f2_rlu \n",
    "\n",
    "gbm_GFDL_p1f2_lw_flux_error = np.zeros((18,61))\n",
    "\n",
    "#calculate error in experiments 2-18 compared with the reference experiment 1\n",
    "for i in range(1,18): \n",
    "    gbm_GFDL_p1f2_lw_flux_error[0] = 0\n",
    "    gbm_GFDL_p1f2_lw_flux_error[i] = gbm_GFDL_p1f2_lw_flux[i,0]-gbm_GFDL_p1f2_lw_flux[0,0]"
   ]
  },
  {
   "cell_type": "code",
   "execution_count": 86,
   "id": "ef59773b",
   "metadata": {},
   "outputs": [],
   "source": [
    "gfdl_p1f2 = xr.DataArray(\n",
    "    data=gbm_GFDL_p1f2_sw_flux_error-gbm_LBLRTM_p1f1_sw_flux_error,\n",
    "    dims=[\"experiment\", \"level\"],\n",
    "    attrs=dict(\n",
    "        description=\"Ambient temperature.\",\n",
    "        units=\"degC\",\n",
    "    ),\n",
    ")"
   ]
  },
  {
   "cell_type": "code",
   "execution_count": 87,
   "id": "973234af",
   "metadata": {},
   "outputs": [],
   "source": [
    "gfdl_p1f2_lw = xr.DataArray(\n",
    "    data=gbm_GFDL_p1f2_lw_flux_error-gbm_LBLRTM_p1f1_lw_flux_error,\n",
    "    dims=[\"experiment\", \"level\"],\n",
    "    attrs=dict(\n",
    "        description=\"Ambient temperature.\",\n",
    "        units=\"degC\",\n",
    "    ),\n",
    ")"
   ]
  },
  {
   "cell_type": "markdown",
   "id": "f60d07ba",
   "metadata": {},
   "source": [
    "#### RTE_RRTMGP (parameterized) (longwave only)"
   ]
  },
  {
   "cell_type": "code",
   "execution_count": 34,
   "id": "4ee7b253",
   "metadata": {},
   "outputs": [],
   "source": [
    "#longwave calculation\n",
    "RTE_RRTMGP_p1f1_rlu = cat.parameterized.RTE_RRTMGP.p1f1.rlu.to_dask() #upwelling sw radiation values\n",
    "RTE_RRTMGP_p1f1_rld = cat.parameterized.RTE_RRTMGP.p1f1.rld.to_dask() #downwelling sw radiation values\n",
    "pw_lw_RTE_RRTMGP = RTE_RRTMGP_p1f1_rlu.profile_weight.values #profile weights for each column\n",
    "\n",
    "gbm_RTE_RRTMGP_p1f1_rlu = np.average(RTE_RRTMGP_p1f1_rlu.rlu, axis=1, weights=pw_lw_RTE_RRTMGP) #compute average across 100 columns\n",
    "gbm_RTE_RRTMGP_p1f1_rld = np.average(RTE_RRTMGP_p1f1_rld.rld, axis=1, weights=pw_lw_RTE_RRTMGP)"
   ]
  },
  {
   "cell_type": "code",
   "execution_count": 35,
   "id": "c88eb93d",
   "metadata": {},
   "outputs": [],
   "source": [
    "#longwave flux = downwelling - upwelling radiation\n",
    "gbm_RTE_RRTMGP_p1f1_lw_flux = gbm_RTE_RRTMGP_p1f1_rld-gbm_RTE_RRTMGP_p1f1_rlu \n",
    "\n",
    "gbm_RTE_RRTMGP_p1f1_lw_flux_error = np.zeros((18,61))\n",
    "\n",
    "#calculate error in experiments 2-18 compared with the reference experiment 1\n",
    "for i in range(1,18):\n",
    "    for j in range(61):\n",
    "        gbm_RTE_RRTMGP_p1f1_lw_flux_error[0,:] = 0\n",
    "        gbm_RTE_RRTMGP_p1f1_lw_flux_error[i,j] = gbm_RTE_RRTMGP_p1f1_lw_flux[i,j]-gbm_RTE_RRTMGP_p1f1_lw_flux[0,j]"
   ]
  },
  {
   "cell_type": "code",
   "execution_count": 88,
   "id": "4f5b8813",
   "metadata": {},
   "outputs": [],
   "source": [
    "rte_rrtmgp_p1f1_lw = xr.DataArray(\n",
    "    data=gbm_RTE_RRTMGP_p1f1_lw_flux_error-gbm_LBLRTM_p1f1_lw_flux_error,\n",
    "    dims=[\"experiment\", \"level\"],\n",
    "    attrs=dict(\n",
    "        description=\"Ambient temperature.\",\n",
    "        units=\"degC\",\n",
    "    ),\n",
    ")"
   ]
  },
  {
   "cell_type": "markdown",
   "id": "4a318c41",
   "metadata": {},
   "source": [
    "#### shortwave dataset creation"
   ]
  },
  {
   "cell_type": "code",
   "execution_count": 217,
   "id": "dccfb3a2",
   "metadata": {},
   "outputs": [],
   "source": [
    "gbm_sw_flux_error_data = xr.concat((lblrtm_p1f1, miroc6_p1f1, gfdl_p1f2, canesm5_p2f2, giss_e2_1_g_p1f1, giss_e3_g_p1f1), dim=\"model\")"
   ]
  },
  {
   "cell_type": "code",
   "execution_count": 218,
   "id": "7dbe80bb",
   "metadata": {},
   "outputs": [],
   "source": [
    "model = [\"LBLRTM\", \"MIROC6\", \"GFDL\", \"CanESM5\"]\n",
    "experiment = range(18)\n",
    "level = range(61)"
   ]
  },
  {
   "cell_type": "code",
   "execution_count": 219,
   "id": "38d182f9",
   "metadata": {},
   "outputs": [],
   "source": [
    "gbm_sw_flux_error_DS = xr.Dataset(\n",
    "    data_vars=dict(\n",
    "        gbm_sw_flux_error = ([\"model\", \"experiment\", \"level\"], gbm_sw_flux_error_data.data)\n",
    "           ),\n",
    "    attrs=dict(description=\"rad-irf flux experiment error data.\"),\n",
    ")"
   ]
  },
  {
   "cell_type": "markdown",
   "id": "ee646d28",
   "metadata": {},
   "source": [
    "#### longwave dataset creation"
   ]
  },
  {
   "cell_type": "code",
   "execution_count": 222,
   "id": "1c7366a2",
   "metadata": {},
   "outputs": [],
   "source": [
    "gbm_lw_flux_error_data = xr.concat((lblrtm_p1f1_lw, miroc6_p1f1_lw, gfdl_p1f2_lw, rte_rrtmgp_p1f1_lw, canesm5_p2f2_lw, giss_e2_1_g_p1f1_lw, giss_e3_g_p1f1_lw), dim=\"model\")"
   ]
  },
  {
   "cell_type": "code",
   "execution_count": 223,
   "id": "a250af63",
   "metadata": {},
   "outputs": [],
   "source": [
    "model = [\"LBLRTM\", \"MIROC6\", \"GFDL\", \"RTE_RRTMGP\", \"CanESM5\"]\n",
    "experiment = range(18)\n",
    "level = range(61)"
   ]
  },
  {
   "cell_type": "code",
   "execution_count": 224,
   "id": "c21783a1",
   "metadata": {},
   "outputs": [],
   "source": [
    "gbm_lw_flux_error_DS = xr.Dataset(\n",
    "    data_vars=dict(\n",
    "        gbm_lw_flux_error = ([\"model\", \"experiment\", \"level\"], gbm_lw_flux_error_data.data)\n",
    "           ),\n",
    "    attrs=dict(description=\"rad-irf flux experiment error data.\"),\n",
    ")"
   ]
  },
  {
   "cell_type": "markdown",
   "id": "1cdfb91f",
   "metadata": {},
   "source": [
    "#### plot parameterized model error"
   ]
  },
  {
   "cell_type": "code",
   "execution_count": 232,
   "id": "900adbf3",
   "metadata": {},
   "outputs": [
    {
     "data": {
      "image/png": "[encoded data removed]",
      "text/plain": [
       "<Figure size 640x480 with 1 Axes>"
      ]
     },
     "metadata": {},
     "output_type": "display_data"
    },
    {
     "data": {
      "image/png": "[encoded data removed]",
      "text/plain": [
       "<Figure size 640x480 with 1 Axes>"
      ]
     },
     "metadata": {},
     "output_type": "display_data"
    }
   ],
   "source": [
    "fig, ax = plt.subplots()\n",
    "for i in range(1,5):\n",
    "    plt.scatter(gbm_sw_flux_error_data[i,:,0], gbm_sw_flux_error_data[i,:,60])\n",
    "plt.xlabel(\"top of atmosphere\")\n",
    "plt.ylabel(\"surface\")\n",
    "ax.axhline(y=0, color='k')\n",
    "ax.axvline(x=0, color='k')\n",
    "plt.legend([\"GFDL p1f2\", \"CanESM5 p2f2\", \"GISS-E2-1-G p1f1\", \"GISS-E3-G p1f1\"])\n",
    "plt.title(\"shortwave error\")\n",
    "plt.show()\n",
    "\n",
    "fig, ax = plt.subplots()\n",
    "for i in range(1,6):\n",
    "    plt.scatter(gbm_lw_flux_error_data[i,:,0], gbm_lw_flux_error_data[i,:,60])\n",
    "plt.xlabel(\"top of atmosphere\")\n",
    "plt.ylabel(\"surface\")\n",
    "ax.axhline(y=0, color='k')\n",
    "ax.axvline(x=0, color='k')\n",
    "plt.legend([\"GFDL p1f2\", \"RTE_RRTMGP p1f1\", \"CanESM5 p2f2\", \"GISS-E2-1-G p1f1\", \"GISS-E3-G p1f1\"])\n",
    "plt.title(\"longwave error\")\n",
    "plt.show()"
   ]
  },
  {
   "cell_type": "markdown",
   "id": "d9dca326",
   "metadata": {},
   "source": [
    "# write the above functions as a loop:\n",
    "for model in list(cat.parameterized):\n",
    "    for variant in list(cat.parameterized.model):\n",
    "        gbm_errors[model + \"_\" + variant] = global_mean_error_function(model, variant)\n",
    "        \n",
    "global_mean_error_function(model, variant):\n",
    "    one_set_of_errors = {}\n",
    "    for field in [\"rlu\", \"rld\", \"rsu\", \"rsd\"]:\n",
    "        compute_global_mean_error（cat.parameterized.[model].[variant].[field].to_dask())\n",
    "        \n",
    "gcm_errors[model_variant][\"field\"]\n",
    "\n",
    "for model in gcm_errors.keys()\n",
    "    plt.scatter(model.rsd[0]-model.rsu[0], model.rsd[60]-model.rsu[60])\n",
    "    "
   ]
  },
  {
   "cell_type": "code",
   "execution_count": 127,
   "id": "bbd6400e",
   "metadata": {},
   "outputs": [],
   "source": [
    "def gbm_error_function(model, variant):\n",
    "    model = model\n",
    "    variant = variant\n",
    "    errors = {}\n",
    "    for field in [\"rlu\", \"rld\", \"rsu\", \"rsd\"]:\n",
    "        calc[field] = cat.parameterized.field.to_dask()\n",
    "        pw_calc = calc.profile_weight_values\n",
    "        gbm_pw_calc = np.average(calc.field, axis=1, weights=pw_calc)"
   ]
  },
  {
   "cell_type": "code",
   "execution_count": 135,
   "id": "162d68c2",
   "metadata": {},
   "outputs": [
    {
     "ename": "AttributeError",
     "evalue": "model",
     "output_type": "error",
     "traceback": [
      "\u001b[0;31m---------------------------------------------------------------------------\u001b[0m",
      "\u001b[0;31mKeyError\u001b[0m                                  Traceback (most recent call last)",
      "File \u001b[0;32m/Applications/anaconda3/envs/RFMIP/lib/python3.9/site-packages/intake/catalog/base.py:391\u001b[0m, in \u001b[0;36mCatalog.__getattr__\u001b[0;34m(self, item)\u001b[0m\n\u001b[1;32m    390\u001b[0m \u001b[38;5;28;01mtry\u001b[39;00m:\n\u001b[0;32m--> 391\u001b[0m     \u001b[38;5;28;01mreturn\u001b[39;00m \u001b[38;5;28;43mself\u001b[39;49m\u001b[43m[\u001b[49m\u001b[43mitem\u001b[49m\u001b[43m]\u001b[49m  \u001b[38;5;66;03m# triggers reload_on_change\u001b[39;00m\n\u001b[1;32m    392\u001b[0m \u001b[38;5;28;01mexcept\u001b[39;00m \u001b[38;5;167;01mKeyError\u001b[39;00m \u001b[38;5;28;01mas\u001b[39;00m e:\n",
      "File \u001b[0;32m/Applications/anaconda3/envs/RFMIP/lib/python3.9/site-packages/intake/catalog/base.py:464\u001b[0m, in \u001b[0;36mCatalog.__getitem__\u001b[0;34m(self, key)\u001b[0m\n\u001b[1;32m    463\u001b[0m     \u001b[38;5;28;01mreturn\u001b[39;00m out()\n\u001b[0;32m--> 464\u001b[0m \u001b[38;5;28;01mraise\u001b[39;00m \u001b[38;5;167;01mKeyError\u001b[39;00m(key)\n",
      "\u001b[0;31mKeyError\u001b[0m: 'model'",
      "\nThe above exception was the direct cause of the following exception:\n",
      "\u001b[0;31mAttributeError\u001b[0m                            Traceback (most recent call last)",
      "Cell \u001b[0;32mIn [135], line 2\u001b[0m\n\u001b[1;32m      1\u001b[0m \u001b[38;5;28;01mfor\u001b[39;00m model \u001b[38;5;129;01min\u001b[39;00m \u001b[38;5;28mlist\u001b[39m(cat\u001b[38;5;241m.\u001b[39mparameterized):\n\u001b[0;32m----> 2\u001b[0m     \u001b[38;5;28;01mfor\u001b[39;00m variant \u001b[38;5;129;01min\u001b[39;00m \u001b[38;5;28mlist\u001b[39m(cat\u001b[38;5;241m.\u001b[39mparameterized\u001b[38;5;241m.\u001b[39mmodel):\n\u001b[1;32m      3\u001b[0m         gbm_errors[model \u001b[38;5;241m+\u001b[39m \u001b[38;5;124m\"\u001b[39m\u001b[38;5;124m_\u001b[39m\u001b[38;5;124m\"\u001b[39m \u001b[38;5;241m+\u001b[39m variant] \u001b[38;5;241m=\u001b[39m gbm_error_function(model,variant)\n",
      "File \u001b[0;32m/Applications/anaconda3/envs/RFMIP/lib/python3.9/site-packages/intake/catalog/base.py:393\u001b[0m, in \u001b[0;36mCatalog.__getattr__\u001b[0;34m(self, item)\u001b[0m\n\u001b[1;32m    391\u001b[0m         \u001b[38;5;28;01mreturn\u001b[39;00m \u001b[38;5;28mself\u001b[39m[item]  \u001b[38;5;66;03m# triggers reload_on_change\u001b[39;00m\n\u001b[1;32m    392\u001b[0m     \u001b[38;5;28;01mexcept\u001b[39;00m \u001b[38;5;167;01mKeyError\u001b[39;00m \u001b[38;5;28;01mas\u001b[39;00m e:\n\u001b[0;32m--> 393\u001b[0m         \u001b[38;5;28;01mraise\u001b[39;00m \u001b[38;5;167;01mAttributeError\u001b[39;00m(item) \u001b[38;5;28;01mfrom\u001b[39;00m \u001b[38;5;21;01me\u001b[39;00m\n\u001b[1;32m    394\u001b[0m \u001b[38;5;28;01mraise\u001b[39;00m \u001b[38;5;167;01mAttributeError\u001b[39;00m(item)\n",
      "\u001b[0;31mAttributeError\u001b[0m: model"
     ]
    }
   ],
   "source": [
    "for model in list(cat.parameterized):\n",
    "    for variant in list(cat.parameterized.model):\n",
    "        gbm_errors[model + \"_\" + variant] = gbm_error_function(model,variant)"
   ]
  }
 ],
 "metadata": {
  "kernelspec": {
   "display_name": "Python 3 (ipykernel)",
   "language": "python",
   "name": "python3"
  },
  "language_info": {
   "codemirror_mode": {
    "name": "ipython",
    "version": 3
   },
   "file_extension": ".py",
   "mimetype": "text/x-python",
   "name": "python",
   "nbconvert_exporter": "python",
   "pygments_lexer": "ipython3",
   "version": "3.9.13"
  }
 },
 "nbformat": 4,
 "nbformat_minor": 5
}
